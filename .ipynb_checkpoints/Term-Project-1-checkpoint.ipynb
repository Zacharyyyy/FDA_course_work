{
 "cells": [
  {
   "cell_type": "markdown",
   "metadata": {},
   "source": [
    "![](https://i.imgur.com/7ZHW4nx.png)\n",
    "# Term Project 1"
   ]
  },
  {
   "cell_type": "markdown",
   "metadata": {},
   "source": [
    "## Import Library"
   ]
  },
  {
   "cell_type": "code",
   "execution_count": 1,
   "metadata": {},
   "outputs": [],
   "source": [
    "import pandas as pd\n",
    "import matplotlib.pyplot as plt\n",
    "import seaborn as sns\n",
    "import numpy as np\n",
    "from sklearn import linear_model, metrics, model_selection\n",
    "from sklearn.metrics import accuracy_score\n",
    "from sklearn.preprocessing import StandardScaler"
   ]
  },
  {
   "cell_type": "markdown",
   "metadata": {},
   "source": [
    "## Load Data"
   ]
  },
  {
   "cell_type": "code",
   "execution_count": 2,
   "metadata": {},
   "outputs": [
    {
     "data": {
      "text/html": [
       "<div>\n",
       "<style scoped>\n",
       "    .dataframe tbody tr th:only-of-type {\n",
       "        vertical-align: middle;\n",
       "    }\n",
       "\n",
       "    .dataframe tbody tr th {\n",
       "        vertical-align: top;\n",
       "    }\n",
       "\n",
       "    .dataframe thead th {\n",
       "        text-align: right;\n",
       "    }\n",
       "</style>\n",
       "<table border=\"1\" class=\"dataframe\">\n",
       "  <thead>\n",
       "    <tr style=\"text-align: right;\">\n",
       "      <th></th>\n",
       "      <th>run</th>\n",
       "      <th>rewards</th>\n",
       "      <th>policy</th>\n",
       "    </tr>\n",
       "  </thead>\n",
       "  <tbody>\n",
       "    <tr>\n",
       "      <th>0</th>\n",
       "      <td>0</td>\n",
       "      <td>160.576918</td>\n",
       "      <td>{'1': [0.022294551810027596, 0.877371877803361...</td>\n",
       "    </tr>\n",
       "    <tr>\n",
       "      <th>1</th>\n",
       "      <td>1</td>\n",
       "      <td>155.256539</td>\n",
       "      <td>{'1': [0.7082178513731475, 0.516487975263316],...</td>\n",
       "    </tr>\n",
       "    <tr>\n",
       "      <th>2</th>\n",
       "      <td>2</td>\n",
       "      <td>148.997938</td>\n",
       "      <td>{'1': [0.12425394059114714, 0.8266626907267229...</td>\n",
       "    </tr>\n",
       "    <tr>\n",
       "      <th>3</th>\n",
       "      <td>3</td>\n",
       "      <td>129.601516</td>\n",
       "      <td>{'1': [0.4096637384106575, 0.4817168620438138]...</td>\n",
       "    </tr>\n",
       "    <tr>\n",
       "      <th>4</th>\n",
       "      <td>4</td>\n",
       "      <td>227.623652</td>\n",
       "      <td>{'1': [0.9826299651903827, 0.3779932539229326]...</td>\n",
       "    </tr>\n",
       "    <tr>\n",
       "      <th>5</th>\n",
       "      <td>5</td>\n",
       "      <td>187.523367</td>\n",
       "      <td>{'1': [0.2218456303937072, 0.45693656300110097...</td>\n",
       "    </tr>\n",
       "    <tr>\n",
       "      <th>6</th>\n",
       "      <td>6</td>\n",
       "      <td>174.149676</td>\n",
       "      <td>{'1': [0.0021326348504397963, 0.96418610325853...</td>\n",
       "    </tr>\n",
       "    <tr>\n",
       "      <th>7</th>\n",
       "      <td>7</td>\n",
       "      <td>116.316395</td>\n",
       "      <td>{'1': [0.19668407459237403, 0.5351761374281544...</td>\n",
       "    </tr>\n",
       "    <tr>\n",
       "      <th>8</th>\n",
       "      <td>8</td>\n",
       "      <td>238.277366</td>\n",
       "      <td>{'1': [0.8377552589656654, 0.09337682448143925...</td>\n",
       "    </tr>\n",
       "    <tr>\n",
       "      <th>9</th>\n",
       "      <td>9</td>\n",
       "      <td>188.873105</td>\n",
       "      <td>{'1': [0.40292152229163936, 0.9947750411426267...</td>\n",
       "    </tr>\n",
       "  </tbody>\n",
       "</table>\n",
       "</div>"
      ],
      "text/plain": [
       "   run     rewards                                             policy\n",
       "0    0  160.576918  {'1': [0.022294551810027596, 0.877371877803361...\n",
       "1    1  155.256539  {'1': [0.7082178513731475, 0.516487975263316],...\n",
       "2    2  148.997938  {'1': [0.12425394059114714, 0.8266626907267229...\n",
       "3    3  129.601516  {'1': [0.4096637384106575, 0.4817168620438138]...\n",
       "4    4  227.623652  {'1': [0.9826299651903827, 0.3779932539229326]...\n",
       "5    5  187.523367  {'1': [0.2218456303937072, 0.45693656300110097...\n",
       "6    6  174.149676  {'1': [0.0021326348504397963, 0.96418610325853...\n",
       "7    7  116.316395  {'1': [0.19668407459237403, 0.5351761374281544...\n",
       "8    8  238.277366  {'1': [0.8377552589656654, 0.09337682448143925...\n",
       "9    9  188.873105  {'1': [0.40292152229163936, 0.9947750411426267..."
      ]
     },
     "execution_count": 2,
     "metadata": {},
     "output_type": "execute_result"
    }
   ],
   "source": [
    "pd_data=pd.read_csv(u'./submissionsample.csv')\n",
    "pd_data"
   ]
  },
  {
   "cell_type": "code",
   "execution_count": 5,
   "metadata": {},
   "outputs": [
    {
     "name": "stdout",
     "output_type": "stream",
     "text": [
      "Collecting git+https://github.com/slremy/netsapi\n",
      "  Cloning https://github.com/slremy/netsapi to /tmp/pip-req-build-uh8wz1lr\n",
      "  Running command git clone -q https://github.com/slremy/netsapi /tmp/pip-req-build-uh8wz1lr\n",
      "Building wheels for collected packages: netsapi\n",
      "  Building wheel for netsapi (setup.py) ... \u001b[?25ldone\n",
      "\u001b[?25h  Stored in directory: /tmp/pip-ephem-wheel-cache-o37iegbq/wheels/9e/73/c9/86a9cc2460e11b3ce5b0a5ebd2d9d332a68afe0941659967fa\n",
      "Successfully built netsapi\n",
      "Installing collected packages: netsapi\n",
      "Successfully installed netsapi-1.1\n"
     ]
    },
    {
     "ename": "ModuleNotFoundError",
     "evalue": "No module named 'netsapi'",
     "output_type": "error",
     "traceback": [
      "\u001b[0;31m---------------------------------------------------------------------------\u001b[0m",
      "\u001b[0;31mModuleNotFoundError\u001b[0m                       Traceback (most recent call last)",
      "\u001b[0;32m<ipython-input-5-e425c70bec84>\u001b[0m in \u001b[0;36m<module>\u001b[0;34m\u001b[0m\n\u001b[1;32m      5\u001b[0m \u001b[0mget_ipython\u001b[0m\u001b[0;34m(\u001b[0m\u001b[0;34m)\u001b[0m\u001b[0;34m.\u001b[0m\u001b[0msystem\u001b[0m\u001b[0;34m(\u001b[0m\u001b[0;34m'pip3 install git+https://github.com/slremy/netsapi --user --upgrade'\u001b[0m\u001b[0;34m)\u001b[0m\u001b[0;34m\u001b[0m\u001b[0;34m\u001b[0m\u001b[0m\n\u001b[1;32m      6\u001b[0m \u001b[0;34m\u001b[0m\u001b[0m\n\u001b[0;32m----> 7\u001b[0;31m \u001b[0;32mfrom\u001b[0m \u001b[0mnetsapi\u001b[0m\u001b[0;34m.\u001b[0m\u001b[0mchallenge\u001b[0m \u001b[0;32mimport\u001b[0m \u001b[0;34m*\u001b[0m\u001b[0;34m\u001b[0m\u001b[0;34m\u001b[0m\u001b[0m\n\u001b[0m\u001b[1;32m      8\u001b[0m \u001b[0;34m\u001b[0m\u001b[0m\n\u001b[1;32m      9\u001b[0m \u001b[0;32mclass\u001b[0m \u001b[0mCustomAgent\u001b[0m\u001b[0;34m:\u001b[0m\u001b[0;34m\u001b[0m\u001b[0;34m\u001b[0m\u001b[0m\n",
      "\u001b[0;31mModuleNotFoundError\u001b[0m: No module named 'netsapi'"
     ]
    }
   ],
   "source": [
    "from sys import exit, exc_info, argv\n",
    "import numpy as np\n",
    "import pandas as pd\n",
    "\n",
    "!pip3 install git+https://github.com/slremy/netsapi --user --upgrade\n",
    "\n",
    "from netsapi.challenge import *\n",
    "\n",
    "class CustomAgent:\n",
    "    def __init__(self, environment):\n",
    "        self.environment = environment\n",
    "\n",
    "    def generate(self):\n",
    "        best_policy = None\n",
    "        best_reward = -float('Inf')\n",
    "        candidates = []\n",
    "        try:\n",
    "            # Agents should make use of 20 episodes in each training run, if making sequential decisions\n",
    "            for i in range(20):\n",
    "                self.environment.reset()\n",
    "                policy = {}\n",
    "                for j in range(5): #episode length\n",
    "                    policy[str(j+1)]=[random.random(),random.random()]\n",
    "                candidates.append(policy)\n",
    "                \n",
    "            rewards = self.environment.evaluatePolicy(candidates)\n",
    "            best_policy = candidates[np.argmax(rewards)]\n",
    "            best_reward = rewards[np.argmax(rewards)]\n",
    "        \n",
    "        except (KeyboardInterrupt, SystemExit):\n",
    "            print(exc_info())\n",
    "            \n",
    "        return best_policy, best_reward"
   ]
  },
  {
   "cell_type": "code",
   "execution_count": 5,
   "metadata": {},
   "outputs": [
    {
     "ename": "NameError",
     "evalue": "name 'EvaluateChallengeSubmission' is not defined",
     "output_type": "error",
     "traceback": [
      "\u001b[0;31m---------------------------------------------------------------------------\u001b[0m",
      "\u001b[0;31mNameError\u001b[0m                                 Traceback (most recent call last)",
      "\u001b[0;32m<ipython-input-5-d7fc3fc921c7>\u001b[0m in \u001b[0;36m<module>\u001b[0;34m\u001b[0m\n\u001b[0;32m----> 1\u001b[0;31m \u001b[0mEvaluateChallengeSubmission\u001b[0m\u001b[0;34m(\u001b[0m\u001b[0mChallengeSeqDecEnvironment\u001b[0m\u001b[0;34m,\u001b[0m \u001b[0mCustomAgent\u001b[0m\u001b[0;34m,\u001b[0m \u001b[0;34m\"example.csv\"\u001b[0m\u001b[0;34m)\u001b[0m\u001b[0;34m\u001b[0m\u001b[0;34m\u001b[0m\u001b[0m\n\u001b[0m",
      "\u001b[0;31mNameError\u001b[0m: name 'EvaluateChallengeSubmission' is not defined"
     ]
    }
   ],
   "source": [
    "EvaluateChallengeSubmission(ChallengeSeqDecEnvironment, CustomAgent, \"example.csv\")"
   ]
  },
  {
   "cell_type": "code",
   "execution_count": null,
   "metadata": {},
   "outputs": [],
   "source": []
  }
 ],
 "metadata": {
  "kernelspec": {
   "display_name": "Python 3",
   "language": "python",
   "name": "python3"
  },
  "language_info": {
   "codemirror_mode": {
    "name": "ipython",
    "version": 3
   },
   "file_extension": ".py",
   "mimetype": "text/x-python",
   "name": "python",
   "nbconvert_exporter": "python",
   "pygments_lexer": "ipython3",
   "version": "3.7.1"
  }
 },
 "nbformat": 4,
 "nbformat_minor": 2
}

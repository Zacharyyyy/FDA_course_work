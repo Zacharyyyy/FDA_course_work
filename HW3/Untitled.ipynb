{
 "cells": [
  {
   "cell_type": "code",
   "execution_count": 1,
   "metadata": {},
   "outputs": [],
   "source": [
    "matrix = [[0,1,0,0], [0,0,1,0], [0,0,0,1], [1,0,0,0]]\n",
    "matrix1 = [[0,1], [1, 0]]\n",
    "matrix2 = [[0,0,0], [0,0,0], [0,0,0]]\n",
    "matrix3 = [[0,1,0], [1, 0, 0], [1, 1, 0]]\n",
    "matrix4 = [[0,0,0], [1, 0, 0], [1, 1, 0]]\n",
    "matrix = matrix4"
   ]
  },
  {
   "cell_type": "code",
   "execution_count": 2,
   "metadata": {},
   "outputs": [],
   "source": [
    "have_been = [0,0,0,0]\n",
    "flag = 0"
   ]
  },
  {
   "cell_type": "code",
   "execution_count": 3,
   "metadata": {},
   "outputs": [],
   "source": [
    "def next_state(A):\n",
    "    where = 0\n",
    "    print(\"in\")\n",
    "    for i in A:\n",
    "        if i == 1:\n",
    "            if have_been[where] == 0:\n",
    "                have_been[where] = 1\n",
    "                next_state(matrix[where])\n",
    "            else:\n",
    "                print(\"cycle\")\n",
    "                flag = 1\n",
    "                return 0\n",
    "        where = where + 1"
   ]
  },
  {
   "cell_type": "code",
   "execution_count": 4,
   "metadata": {},
   "outputs": [
    {
     "name": "stdout",
     "output_type": "stream",
     "text": [
      "np cycle\n"
     ]
    }
   ],
   "source": [
    "where = 0\n",
    "for X in matrix[0]:\n",
    "    if X == 1:\n",
    "        next_state(matrix[where])\n",
    "    where = where + 1\n",
    "if flag == 0:\n",
    "    print(\"np cycle\")"
   ]
  },
  {
   "cell_type": "code",
   "execution_count": null,
   "metadata": {},
   "outputs": [],
   "source": []
  }
 ],
 "metadata": {
  "kernelspec": {
   "display_name": "Python 3",
   "language": "python",
   "name": "python3"
  },
  "language_info": {
   "codemirror_mode": {
    "name": "ipython",
    "version": 3
   },
   "file_extension": ".py",
   "mimetype": "text/x-python",
   "name": "python",
   "nbconvert_exporter": "python",
   "pygments_lexer": "ipython3",
   "version": "3.7.1"
  }
 },
 "nbformat": 4,
 "nbformat_minor": 2
}
